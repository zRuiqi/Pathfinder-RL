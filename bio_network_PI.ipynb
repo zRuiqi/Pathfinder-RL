{
 "cells": [
  {
   "cell_type": "code",
   "execution_count": 1,
   "metadata": {},
   "outputs": [],
   "source": [
    "import numpy as np\n",
    "import matplotlib.pyplot as plt"
   ]
  },
  {
   "cell_type": "code",
   "execution_count": 2,
   "metadata": {},
   "outputs": [],
   "source": [
    "# PARAMs\n",
    "p = 0.05\n",
    "# p = 0.2\n",
    "# p = 0.45\n",
    "\n",
    "discount = 0.95\n",
    "theta = 0.01"
   ]
  },
  {
   "cell_type": "code",
   "execution_count": 3,
   "metadata": {},
   "outputs": [],
   "source": [
    "# States Space\n",
    "S_space = []\n",
    "\n",
    "#num of states\n",
    "N = 16  \n",
    "for i in range(16):\n",
    "    num = \"{0:04b}\".format(i)\n",
    "    S_space.append([int(i) for i in num])\n",
    "S_space = np.array(S_space)"
   ]
  },
  {
   "cell_type": "code",
   "execution_count": 4,
   "metadata": {},
   "outputs": [],
   "source": [
    "# Value\n",
    "V = np.zeros(16)"
   ]
  },
  {
   "cell_type": "code",
   "execution_count": 5,
   "metadata": {},
   "outputs": [
    {
     "name": "stdout",
     "output_type": "stream",
     "text": [
      "5\n"
     ]
    }
   ],
   "source": [
    "# Action Space\n",
    "A = np.array([[0,0,0,0],\n",
    "               [0,0,0,1],\n",
    "               [0,0,1,0],\n",
    "               [0,1,0,0],\n",
    "               [1,0,0,0]])\n",
    "\n",
    "print(A.shape[0])"
   ]
  },
  {
   "cell_type": "code",
   "execution_count": 6,
   "metadata": {},
   "outputs": [],
   "source": [
    "# Policy\n",
    "policy = []\n",
    "for i in range(N):\n",
    "    policy.append(A[0])     # Initialize: all a1=[0,0,0,0]\n",
    "\n",
    "# no control policy\n",
    "no_control_policy = policy"
   ]
  },
  {
   "cell_type": "code",
   "execution_count": 7,
   "metadata": {},
   "outputs": [],
   "source": [
    "# Connectivity Matrix\n",
    "C = np.array([[0,0,-1,0],\n",
    "               [1,0,-1,-1],\n",
    "               [0,1,0,0],\n",
    "               [-1,1,1,0]])"
   ]
  },
  {
   "cell_type": "code",
   "execution_count": 8,
   "metadata": {},
   "outputs": [],
   "source": [
    "# v_bar mapping\n",
    "def bar(vec):\n",
    "    for i in range(len(vec)):\n",
    "        if vec[i] > 0:          # map greater than 0 to 1\n",
    "            vec[i] = 1\n",
    "        else:                   # map smaller or equal to 0 to 0\n",
    "            vec[i] = 0\n",
    "    return vec"
   ]
  },
  {
   "cell_type": "code",
   "execution_count": 9,
   "metadata": {},
   "outputs": [],
   "source": [
    "# ⊕ component wise XOR\n",
    "def mod2add(a, b):\n",
    "    result = []\n",
    "    for i, j in zip(a, b):\n",
    "        if i==j:\n",
    "            result.append(0)\n",
    "        else:\n",
    "            result.append(1)\n",
    "    return np.array(result)"
   ]
  },
  {
   "cell_type": "code",
   "execution_count": 10,
   "metadata": {},
   "outputs": [],
   "source": [
    "# r(s, a, s')\n",
    "def reward(state, action, next_state):\n",
    "    return np.sum(next_state)*5 - np.sum(np.absolute(action))"
   ]
  },
  {
   "cell_type": "code",
   "execution_count": 11,
   "metadata": {},
   "outputs": [],
   "source": [
    "# Transition Matrix P(a)\n",
    "matrix_list = []\n",
    "def P(p, S_space, C, action):\n",
    "    Matrix = np.zeros((N, N))\n",
    "\n",
    "    for i in range(N):              # P(a)\n",
    "        for j in range(N):\n",
    "            exp = np.sum(np.absolute(S_space[j] - mod2add(bar(np.matmul(C, S_space[i])), action)))\n",
    "            Matrix[i][j] = np.power(p, exp) * np.power(1-p, 4-exp)\n",
    "    return Matrix"
   ]
  },
  {
   "cell_type": "code",
   "execution_count": 12,
   "metadata": {},
   "outputs": [],
   "source": [
    "# P(a) list\n",
    "matrix_list = []\n",
    "for action in A:\n",
    "    mat = P(p, S_space, C, action)\n",
    "    matrix_list.append(mat)\n",
    "\n",
    "\n",
    "# P(π)\n",
    "def get_policy_matrix(policy):\n",
    "    mat_policy = np.zeros((N,N))\n",
    "\n",
    "    for row in range(len(policy)):\n",
    "        for i in range(A.shape[0]):\n",
    "            if (policy[row] == A[i]).all():\n",
    "                mat_policy[row] = matrix_list[i][row]\n",
    "\n",
    "    return mat_policy\n",
    "\n",
    "# pp = get_policy_matrix(policy)\n",
    "# print(pp.shape)"
   ]
  },
  {
   "cell_type": "code",
   "execution_count": 13,
   "metadata": {},
   "outputs": [],
   "source": [
    "# Reward Matrix R(a)\n",
    "def R(S_space, action):\n",
    "    Matrix = np.zeros((N, N))\n",
    "\n",
    "    for i in range(N):              # M(a)\n",
    "        for j in range(N):\n",
    "            Matrix[i][j] = reward(S_space[i], action, S_space[j])\n",
    "    return Matrix"
   ]
  },
  {
   "cell_type": "code",
   "execution_count": 14,
   "metadata": {},
   "outputs": [],
   "source": [
    "# R(a) list\n",
    "reward_list = []\n",
    "for action in A:\n",
    "    rew = R(S_space, action)\n",
    "    reward_list.append(rew)\n",
    "\n",
    "# R(π)\n",
    "def get_policy_reward(policy):\n",
    "    rew_policy = np.zeros((N,N))\n",
    "\n",
    "    for row in range(len(policy)):                  # for π(s)\n",
    "        for i in range(A.shape[0]):                 # for a\n",
    "            if (policy[row] == A[i]).all():         # if  π(s)==a\n",
    "                rew_policy[row] = reward_list[i][row]\n",
    "    return rew_policy\n",
    "\n",
    "# rr = get_policy_reward(policy)\n",
    "# print(rr)"
   ]
  },
  {
   "cell_type": "code",
   "execution_count": 15,
   "metadata": {},
   "outputs": [
    {
     "name": "stdout",
     "output_type": "stream",
     "text": [
      "[3. 3. 3. 3. 3. 3. 3. 3. 2. 3. 3. 3. 1. 3. 3. 3.]\n",
      "Num of Iterations =  3\n"
     ]
    }
   ],
   "source": [
    "\n",
    "iteration_count = 0\n",
    "policy_stable = False\n",
    "\n",
    "while not policy_stable:\n",
    "    iteration_count = iteration_count+1\n",
    "\n",
    "    #------- Policy Evaluation -------#\n",
    "    mat = get_policy_matrix(policy)\n",
    "    rew = get_policy_reward(policy)\n",
    "    R_expected = np.matmul(np.multiply(mat, rew), np.ones(N))\n",
    "    I = np.identity(N)\n",
    "\n",
    "    # Value\n",
    "    V_new = np.matmul(np.linalg.inv(I - discount * mat), R_expected)\n",
    "    V = V_new\n",
    "\n",
    "    # print(V_new)\n",
    "\n",
    "    #------- Policy Improvement -------#\n",
    "    V_list = []\n",
    "    for action in A:\n",
    "        mat = P(p, S_space, C, action)\n",
    "        rew = R(S_space, action)\n",
    "        R_expected = np.matmul(np.multiply(mat, rew), np.ones(N))\n",
    "\n",
    "        # Value\n",
    "        V_new = R_expected + discount* np.matmul(mat, V)\n",
    "        V_list.append(V_new)\n",
    "\n",
    "    V_list = np.array(V_list)\n",
    "    new_action = np.argmax(V_list, axis=0)\n",
    "\n",
    "    new_policy = []\n",
    "    for i in range(N):\n",
    "        new_policy.append(A[new_action[i]])\n",
    "\n",
    "    # print(new_action)\n",
    "\n",
    "    # check if π = π' \n",
    "    equal = []\n",
    "    for i in range(N):\n",
    "        if (policy[i] == new_policy[i]).all():\n",
    "            equal.append(True)\n",
    "        else:\n",
    "            equal.append(False)\n",
    "\n",
    "    policy_stable = all(equal)\n",
    "\n",
    "    # update policy\n",
    "    policy = new_policy\n",
    "\n",
    "\n",
    "# Optimal\n",
    "optimal_policy = policy\n",
    "\n",
    "optimal_action = np.zeros(N)\n",
    "for row in range(len(optimal_policy)):\n",
    "    for i in range(A.shape[0]):\n",
    "        if (optimal_policy[row] == A[i]).all():\n",
    "            optimal_action[row] = i\n",
    "\n",
    "# print(optimal_policy)\n",
    "print(optimal_action)\n",
    "print(\"Num of Iterations = \", iteration_count)\n"
   ]
  },
  {
   "cell_type": "code",
   "execution_count": 16,
   "metadata": {},
   "outputs": [
    {
     "name": "stdout",
     "output_type": "stream",
     "text": [
      "0.4907500000000002\n",
      "2.8419500000000006\n"
     ]
    }
   ],
   "source": [
    "#  Performance Evaluation\n",
    "\n",
    "def AvgA(policy, matrix_list):\n",
    "\n",
    "    A_sum = 0\n",
    "    episode_num = 100\n",
    "\n",
    "    # 100 episodes\n",
    "    for j in range(episode_num):\n",
    "\n",
    "        # 1 episode\n",
    "        i_start = np.random.randint(0, 15)\n",
    "        i_curr = i_start\n",
    "\n",
    "        sum=0\n",
    "        for i in range(200):\n",
    "            # action\n",
    "            action = policy[i_curr]\n",
    "            sum = sum + np.sum(S_space[i_curr])\n",
    "\n",
    "            # next state\n",
    "            matrix = matrix_list[A.tolist().index(action.tolist())]\n",
    "            p_next_state = matrix[i_curr]                       # probability vector of next state\n",
    "            i_next = np.random.choice(16, 1, p=p_next_state)[0]    # choose next state\n",
    "\n",
    "            # update\n",
    "            i_curr = i_next\n",
    "\n",
    "        Ai = sum/200\n",
    "        A_sum = A_sum + Ai\n",
    "\n",
    "    Avg = A_sum/episode_num\n",
    "    return Avg\n",
    "\n",
    "# print(len(matrix_list))\n",
    "# print(matrix_list[4])\n",
    "\n",
    "no_control = AvgA(no_control_policy, matrix_list)\n",
    "optimal = AvgA(optimal_policy, matrix_list)\n",
    "\n",
    "print(no_control)\n",
    "print(optimal)"
   ]
  }
 ],
 "metadata": {
  "kernelspec": {
   "display_name": "Python 3",
   "language": "python",
   "name": "python3"
  },
  "language_info": {
   "codemirror_mode": {
    "name": "ipython",
    "version": 3
   },
   "file_extension": ".py",
   "mimetype": "text/x-python",
   "name": "python",
   "nbconvert_exporter": "python",
   "pygments_lexer": "ipython3",
   "version": "3.11.3"
  }
 },
 "nbformat": 4,
 "nbformat_minor": 2
}
