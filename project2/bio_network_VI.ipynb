{
 "cells": [
  {
   "cell_type": "code",
   "execution_count": 239,
   "metadata": {},
   "outputs": [],
   "source": [
    "import numpy as np\n",
    "import matplotlib.pyplot as plt"
   ]
  },
  {
   "cell_type": "code",
   "execution_count": 240,
   "metadata": {},
   "outputs": [],
   "source": [
    "p = 0.05\n",
    "# p = 0.2\n",
    "# p = 0.45\n",
    "\n",
    "discount = 0.95\n",
    "theta = 0.01"
   ]
  },
  {
   "cell_type": "code",
   "execution_count": 241,
   "metadata": {},
   "outputs": [
    {
     "name": "stdout",
     "output_type": "stream",
     "text": [
      "<class 'numpy.int64'>\n"
     ]
    }
   ],
   "source": [
    "# States Space\n",
    "S_space = []\n",
    "N = 16  #num of states\n",
    "\n",
    "for i in range(16):\n",
    "    num = \"{0:04b}\".format(i)\n",
    "    # S_space.append(np.array([int(i) for i in num]))\n",
    "    S_space.append([int(i) for i in num])\n",
    "S_space = np.array(S_space)\n",
    "\n",
    "print(type(S_space[0][0]))"
   ]
  },
  {
   "cell_type": "code",
   "execution_count": 242,
   "metadata": {},
   "outputs": [],
   "source": [
    "# Value\n",
    "V = np.zeros(16)"
   ]
  },
  {
   "cell_type": "code",
   "execution_count": 243,
   "metadata": {},
   "outputs": [],
   "source": [
    "# Action Space\n",
    "A = np.array([[0,0,0,0],\n",
    "               [0,0,0,1],\n",
    "               [0,0,1,0],\n",
    "               [0,1,0,0],\n",
    "               [1,0,0,0]])\n",
    "\n",
    "# print(A)"
   ]
  },
  {
   "cell_type": "code",
   "execution_count": 244,
   "metadata": {},
   "outputs": [
    {
     "name": "stdout",
     "output_type": "stream",
     "text": [
      "[array([0, 0, 0, 0]), array([0, 0, 0, 0]), array([0, 0, 0, 0]), array([0, 0, 0, 0]), array([0, 0, 0, 0]), array([0, 0, 0, 0]), array([0, 0, 0, 0]), array([0, 0, 0, 0]), array([0, 0, 0, 0]), array([0, 0, 0, 0]), array([0, 0, 0, 0]), array([0, 0, 0, 0]), array([0, 0, 0, 0]), array([0, 0, 0, 0]), array([0, 0, 0, 0]), array([0, 0, 0, 0])]\n"
     ]
    }
   ],
   "source": [
    "# Policy\n",
    "no_control_policy = []\n",
    "for i in range(N):\n",
    "    no_control_policy.append(A[0])     # Initialize: all a1=[0,0,0,0]\n",
    "\n",
    "print(no_control_policy)"
   ]
  },
  {
   "cell_type": "code",
   "execution_count": 245,
   "metadata": {},
   "outputs": [],
   "source": [
    "# Connectivity Matrix\n",
    "C = np.array([[0,0,-1,0],\n",
    "               [1,0,-1,-1],\n",
    "               [0,1,0,0],\n",
    "               [-1,1,1,0]])"
   ]
  },
  {
   "cell_type": "code",
   "execution_count": 246,
   "metadata": {},
   "outputs": [],
   "source": [
    "# v_bar mapping\n",
    "def bar(vec):\n",
    "    for i in range(len(vec)):\n",
    "        if vec[i] > 0:          # map greater than 0 to 1\n",
    "            vec[i] = 1\n",
    "        else:                   # map smaller or equal to 0 to 0\n",
    "            vec[i] = 0\n",
    "    return vec\n",
    "\n",
    "# print(bar(np.array([-1, 0, 1])))"
   ]
  },
  {
   "cell_type": "code",
   "execution_count": 247,
   "metadata": {},
   "outputs": [],
   "source": [
    "# ⊕ component wise XOR\n",
    "def mod2add(a, b):\n",
    "    result = []\n",
    "    for i, j in zip(a, b):\n",
    "        if i==j:\n",
    "            result.append(0)\n",
    "        else:\n",
    "            result.append(1)\n",
    "    return np.array(result)\n",
    "\n",
    "# print(mod2add(np.array([1,0,1,0]), np.array([1,0,0,1])))"
   ]
  },
  {
   "cell_type": "code",
   "execution_count": 248,
   "metadata": {},
   "outputs": [],
   "source": [
    "# r(s, a, s')\n",
    "def reward(state, action, next_state):\n",
    "    return np.sum(next_state)*5 - np.sum(np.absolute(action))\n",
    "\n",
    "# state = S_space[0]\n",
    "# next_state = S_space[1]\n",
    "# action = A[1]\n",
    "# print(state, action, next_state)\n",
    "# print(reward(state, action, next_state))"
   ]
  },
  {
   "cell_type": "code",
   "execution_count": 249,
   "metadata": {},
   "outputs": [
    {
     "name": "stdout",
     "output_type": "stream",
     "text": [
      "[0 0 0 1] [0 0 0 0]\n",
      "[ 0 -1  0  0]\n",
      "[0 0 0 0]\n",
      "[0 0 1 0]\n",
      "[ 0  0 -1  0]\n",
      "[0 0 1 0]\n",
      "1\n"
     ]
    }
   ],
   "source": [
    "# test of exponent val\n",
    "\n",
    "Si = S_space[1]\n",
    "Sj = S_space[0]\n",
    "\n",
    "action = A[2]\n",
    "print(Si, Sj)\n",
    "\n",
    "r = np.matmul(C, Si)\n",
    "print(r)\n",
    "\n",
    "r = bar(np.matmul(C, Si))\n",
    "print(r)\n",
    "\n",
    "r = mod2add(bar(np.matmul(C, Si)), action)\n",
    "print(r)\n",
    "\n",
    "r = Sj - mod2add(bar(np.matmul(C, Si)), action)\n",
    "print(r)\n",
    "\n",
    "r = np.absolute(Sj - mod2add(bar(np.matmul(C, Si)), action))\n",
    "print(r)\n",
    "\n",
    "r = np.sum(np.absolute(Sj - mod2add(bar(np.matmul(C, Si)), action)))\n",
    "print(r)"
   ]
  },
  {
   "cell_type": "code",
   "execution_count": 250,
   "metadata": {},
   "outputs": [],
   "source": [
    "# Transition Matrix M(a)\n",
    "matrix_list = []\n",
    "def P(p, S_space, C, action):\n",
    "    Matrix = np.zeros((N, N))\n",
    "\n",
    "    for i in range(N):              # M(a)\n",
    "        for j in range(N):\n",
    "            exp = np.sum(np.absolute(S_space[j] - mod2add(bar(np.matmul(C, S_space[i])), action)))\n",
    "            Matrix[i][j] = np.power(p, exp) * np.power(1-p, 4-exp)\n",
    "    return Matrix\n",
    "\n",
    "# action = A[0]\n",
    "# Matrix = P(0, S_space, C, action)\n",
    "# print(Matrix)"
   ]
  },
  {
   "cell_type": "code",
   "execution_count": 251,
   "metadata": {},
   "outputs": [],
   "source": [
    "# Reward Matrix R(a)\n",
    "def R(S_space, action):\n",
    "    Matrix = np.zeros((N, N))\n",
    "\n",
    "    for i in range(N):              # M(a)\n",
    "        for j in range(N):\n",
    "            Matrix[i][j] = reward(S_space[i], action, S_space[j])\n",
    "    return Matrix\n"
   ]
  },
  {
   "cell_type": "code",
   "execution_count": 252,
   "metadata": {},
   "outputs": [
    {
     "name": "stdout",
     "output_type": "stream",
     "text": [
      "Num of Iterations =  142\n"
     ]
    }
   ],
   "source": [
    "# Value Iteration\n",
    "\n",
    "iteration_count = 0\n",
    "delta = 999\n",
    "while delta > theta:\n",
    "    iteration_count = iteration_count+1\n",
    "    V_old = V\n",
    "    V_new_list = []\n",
    "\n",
    "    for action in A:\n",
    "        mat = P(p, S_space, C, action)\n",
    "        rew = R(S_space, action)\n",
    "        R_expected = np.matmul(np.multiply(mat, rew), np.ones(N))\n",
    "\n",
    "        # Value\n",
    "        V_new = R_expected + discount* np.matmul(mat, V_old)\n",
    "        V_new_list.append(V_new)\n",
    "\n",
    "\n",
    "    # update V\n",
    "    V = np.amax(np.array(V_new_list), axis=0) # max of row\n",
    "\n",
    "    # update delta\n",
    "    delta = np.max(np.absolute(V-V_old))\n",
    "\n",
    "# print(V)\n",
    "print(\"Num of Iterations = \", iteration_count)"
   ]
  },
  {
   "cell_type": "code",
   "execution_count": 253,
   "metadata": {},
   "outputs": [
    {
     "name": "stdout",
     "output_type": "stream",
     "text": [
      "[3 3 3 3 3 3 3 3 2 3 3 3 1 3 3 3]\n"
     ]
    }
   ],
   "source": [
    "# Optimal Policy\n",
    "V_list = []\n",
    "for action in A:\n",
    "    mat = P(p, S_space, C, action)\n",
    "    rew = R(S_space, action)\n",
    "    R_expected = np.matmul(np.multiply(mat, rew), np.ones(N))\n",
    "\n",
    "    # Value\n",
    "    V_new = R_expected + discount* np.matmul(mat, V)\n",
    "    V_list.append(V_new)\n",
    "\n",
    "    # Record Matrix\n",
    "    matrix_list.append(mat)\n",
    "\n",
    "\n",
    "V_list = np.array(V_list)\n",
    "optimal_action = np.argmax(V_list, axis=0)\n",
    "\n",
    "optimal_policy = []\n",
    "for i in range(N):\n",
    "    optimal_policy.append(A[optimal_action[i]])\n",
    "\n",
    "print(optimal_action)\n",
    "# print(optimal_policy)\n",
    "# print(policy[0])"
   ]
  },
  {
   "cell_type": "code",
   "execution_count": 254,
   "metadata": {},
   "outputs": [
    {
     "name": "stdout",
     "output_type": "stream",
     "text": [
      "0.4855000000000001\n",
      "2.832300000000001\n"
     ]
    }
   ],
   "source": [
    "#  Performance Evaluation\n",
    "\n",
    "def AvgA(policy, matrix_list):\n",
    "\n",
    "    A_sum = 0\n",
    "    episode_num = 100\n",
    "\n",
    "    # 100 episodes\n",
    "    for j in range(episode_num):\n",
    "\n",
    "        # 1 episode\n",
    "        i_start = np.random.randint(0, 15)\n",
    "        i_curr = i_start\n",
    "\n",
    "        sum=0\n",
    "        for i in range(200):\n",
    "            # action\n",
    "            action = policy[i_curr]\n",
    "            sum = sum + np.sum(S_space[i_curr])\n",
    "\n",
    "            # next state\n",
    "            matrix = matrix_list[A.tolist().index(action.tolist())]\n",
    "            p_next_state = matrix[i_curr]                       # probability vector of next state\n",
    "            i_next = np.random.choice(16, 1, p=p_next_state)[0]    # choose next state\n",
    "\n",
    "            # update\n",
    "            i_curr = i_next\n",
    "\n",
    "        Ai = sum/200\n",
    "        A_sum = A_sum + Ai\n",
    "\n",
    "    Avg = A_sum/episode_num\n",
    "    return Avg\n",
    "\n",
    "# print(len(matrix_list))\n",
    "# print(matrix_list[4])\n",
    "\n",
    "no_control = AvgA(no_control_policy, matrix_list)\n",
    "optimal = AvgA(optimal_policy, matrix_list)\n",
    "\n",
    "print(no_control)\n",
    "print(optimal)"
   ]
  }
 ],
 "metadata": {
  "kernelspec": {
   "display_name": "Python 3",
   "language": "python",
   "name": "python3"
  },
  "language_info": {
   "codemirror_mode": {
    "name": "ipython",
    "version": 3
   },
   "file_extension": ".py",
   "mimetype": "text/x-python",
   "name": "python",
   "nbconvert_exporter": "python",
   "pygments_lexer": "ipython3",
   "version": "3.11.3"
  }
 },
 "nbformat": 4,
 "nbformat_minor": 2
}
