{
 "cells": [
  {
   "cell_type": "code",
   "execution_count": 2,
   "metadata": {},
   "outputs": [],
   "source": [
    "import numpy as np\n",
    "import matplotlib.pyplot as plt\n",
    "from matplotlib.patches import Rectangle"
   ]
  },
  {
   "cell_type": "code",
   "execution_count": 3,
   "metadata": {},
   "outputs": [],
   "source": [
    "world_size = 20"
   ]
  },
  {
   "cell_type": "code",
   "execution_count": 11,
   "metadata": {},
   "outputs": [
    {
     "data": {
      "image/png": "[encoded data removed]",
      "text/plain": [
       "<Figure size 640x480 with 1 Axes>"
      ]
     },
     "metadata": {},
     "output_type": "display_data"
    }
   ],
   "source": [
    "\n",
    "world =\\\n",
    "\"\"\"wwwwwwwwwwwwwwwwwwww\n",
    "w          bb      w\n",
    "wbbb w  o       o  w\n",
    "w    w       e     w\n",
    "w owwwwwwwwwwwwww  w\n",
    "wb w  o  b       b w\n",
    "w  w  w  w     w b w\n",
    "w bw  w  wbbwwww b w\n",
    "w     w  w     w b w\n",
    "w     w  w     w   w\n",
    "wwwww w  ww    w  ow\n",
    "w     w   w  w www w\n",
    "w  wwwww  wbbw   w w\n",
    "w      w  w  w   w w\n",
    "wbb    w  w  w     w\n",
    "w   s  w  o  wwwwbbw\n",
    "w      b  o        w\n",
    "www    wwwwww o  o w\n",
    "w      o           w\n",
    "wwwwwwwwwwwwwwwwwwww\"\"\"\n",
    "\n",
    "w = world.split('\\n')\n",
    "gridworld = []\n",
    "for i in range(len(w)):\n",
    "    gridworld.append(list(w[i]))\n",
    "\n",
    "gridplot = plt.gca()\n",
    "plt.xlim(0, world_size)\n",
    "plt.ylim(0, world_size)\n",
    "\n",
    "gridplot.xaxis.set_ticks(list(range(0, world_size)))\n",
    "gridplot.yaxis.set_ticks(list(range(0, world_size)))\n",
    "plt.grid()\n",
    "\n",
    "for x in range(world_size):\n",
    "    for y in range(world_size):\n",
    "        if gridworld[x][y] == 'w':\n",
    "            rect = Rectangle((y, -x+19), 1, 1, fill=True, color='black', alpha=1)\n",
    "            gridplot.add_patch(rect)\n",
    "        if gridworld[x][y] == 'o':\n",
    "            rect = Rectangle((y, -x+19), 1, 1, fill=True, color='red', alpha=0.8)\n",
    "            gridplot.add_patch(rect)\n",
    "        if gridworld[x][y] == 'b':\n",
    "            rect = Rectangle((y, -x+19), 1, 1, fill=True, color='red',  alpha=0.3)\n",
    "            gridplot.add_patch(rect)\n",
    "            # plt.text(y, -x+19, 0)\n",
    "        if gridworld[x][y] == 's':\n",
    "            rect = Rectangle((y, -x+19), 1, 1, fill=True, color='blue', alpha=0.8)\n",
    "            gridplot.add_patch(rect)\n",
    "        if gridworld[x][y] == 'e':\n",
    "            rect = Rectangle((y, -x+19), 1, 1, fill=True, color='green', alpha=0.8)\n",
    "            gridplot.add_patch(rect)\n"
   ]
  },
  {
   "cell_type": "code",
   "execution_count": 12,
   "metadata": {},
   "outputs": [],
   "source": [
    "# Action Space\n",
    "A = ['U', 'D', 'L', 'R']\n",
    "\n",
    "# Transition Probabilities\n",
    "p = 0.1\n",
    "\n",
    "# Reward\n",
    "# def R(s, a, s_next):\n",
    "#     reward = -1\n",
    "#     if S[s_next]=='b':\n",
    "#         reward = reward -10\n",
    "#     if S[s_next]=='o':\n",
    "#         reward = reward -5\n",
    "#     if S[s_next]=='e':\n",
    "#         reward = reward +200\n",
    "#     return reward"
   ]
  },
  {
   "cell_type": "code",
   "execution_count": 13,
   "metadata": {},
   "outputs": [
    {
     "name": "stdout",
     "output_type": "stream",
     "text": [
      "['U', 'L']\n",
      "['w', ' ']\n",
      "18 18\n",
      "248\n"
     ]
    }
   ],
   "source": [
    "# State Space\n",
    "S_SIZE = 248\n",
    "\n",
    "class State:\n",
    "    def __init__(self, row, col, action, s_next):\n",
    "        #\n",
    "        self.row = row\n",
    "        self.col = col\n",
    "        self.s_next = s_next\n",
    "        self.action = action\n",
    "        #\n",
    "        self.value = 0\n",
    "        self.policy = ''\n",
    "\n",
    "\n",
    "# initialize State Space\n",
    "S_space = []\n",
    "for row in range(world_size):\n",
    "    for col in range(world_size):\n",
    "        if gridworld[row][col] != 'w':\n",
    "\n",
    "            # available actions\n",
    "            action = []\n",
    "            s_next = []\n",
    "            \n",
    "            if gridworld[row-1][col] != 'w' and x>1:            #up\n",
    "                action.append('U')\n",
    "                s_next.append( gridworld[row-1][y])\n",
    "\n",
    "            if gridworld[row+1][col] != 'w' and row<world_size:   #down\n",
    "                action.append('D')\n",
    "                s_next.append( gridworld[row+1][col])\n",
    "\n",
    "            if gridworld[row][col-1] != 'w' and col>1:            #left\n",
    "                action.append('L')\n",
    "                s_next.append( gridworld[row][col-1])\n",
    "\n",
    "            if gridworld[row][col+1] != 'w' and col<world_size:   #right\n",
    "                action.append('R')   \n",
    "                s_next.append( gridworld[row][col+1])          \n",
    "\n",
    "            S_space.append(State(row, col, action, s_next))\n",
    "\n",
    "s = 247\n",
    "print(S_space[s].action)\n",
    "print(S_space[s].s_next)\n",
    "print(S_space[s].row, S_space[s].col,)\n",
    "print(len(S_space))"
   ]
  },
  {
   "cell_type": "code",
   "execution_count": null,
   "metadata": {},
   "outputs": [],
   "source": [
    "# Conditions\n",
    "p = 0.02\n",
    "discount = 0.95\n",
    "theta = 0.01\n",
    "\n",
    "\n",
    "diff = 9999999\n",
    "while diff >= theta:\n",
    "    for s in S_space:\n",
    "        v = s.value\n",
    "        v_new = "
   ]
  }
 ],
 "metadata": {
  "kernelspec": {
   "display_name": "Python 3",
   "language": "python",
   "name": "python3"
  },
  "language_info": {
   "codemirror_mode": {
    "name": "ipython",
    "version": 3
   },
   "file_extension": ".py",
   "mimetype": "text/x-python",
   "name": "python",
   "nbconvert_exporter": "python",
   "pygments_lexer": "ipython3",
   "version": "3.11.0"
  }
 },
 "nbformat": 4,
 "nbformat_minor": 2
}
